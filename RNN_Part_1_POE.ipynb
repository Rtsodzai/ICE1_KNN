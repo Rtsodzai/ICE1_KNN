{
  "nbformat": 4,
  "nbformat_minor": 0,
  "metadata": {
    "colab": {
      "private_outputs": true,
      "provenance": [],
      "authorship_tag": "ABX9TyPaIn0L3Y+CiMnL4pEvCxwK",
      "include_colab_link": true
    },
    "kernelspec": {
      "name": "python3",
      "display_name": "Python 3"
    },
    "language_info": {
      "name": "python"
    }
  },
  "cells": [
    {
      "cell_type": "markdown",
      "metadata": {
        "id": "view-in-github",
        "colab_type": "text"
      },
      "source": [
        "<a href=\"https://colab.research.google.com/github/Rtsodzai/ICE1_KNN/blob/main/RNN_Part_1_POE.ipynb\" target=\"_parent\"><img src=\"https://colab.research.google.com/assets/colab-badge.svg\" alt=\"Open In Colab\"/></a>"
      ]
    },
    {
      "cell_type": "markdown",
      "source": [
        "#**TASK 1 – NATURAL LANGUAGE PROCESSING USING A RECURRENT NEURAL NETWORK**"
      ],
      "metadata": {
        "id": "WiCpjd_5G6Ah"
      }
    },
    {
      "cell_type": "markdown",
      "source": [
        "**What Is Recurrent Neural Network**"
      ],
      "metadata": {
        "id": "JzX0RHblHRDP"
      }
    },
    {
      "cell_type": "markdown",
      "source": [
        "A Recurrent Neural Network (RNN) is a type of artificial neural network designed for processing sequential data (Jayawardhana, 2020;Research Graph,2024). Unlike traditional neural networks, RNNs can take input data in a sequence and maintain a memory of previous inputs, which makes them particularly well-suited for tasks involving time-series data, natural language processing, and speech (Jayawardhana, 2020;Research Graph,2024).\n",
        "\n",
        "RNNs have \"memory,\" which allows them to carry information from one part of a sequence to another, effectively learning from the context of the entire sequence rather than just the individual input at each step (Donges, 2024). The ability to maintain information from previous steps in the sequence is the key feature which differenciates between RNNs and other neural networks (Donges, 2024).\n",
        "\n",
        "The basic structure of an RNN is a loop that allows information to be passed from one step to the next in a sequence. Each time the network processes an element of the sequence, it updates its hidden state (the memory of what it has seen so far) and outputs a prediction based on both the current input and its hidden state.\n",
        "\n",
        "* **Input:** A sequence of data (e.g., words in a sentence, stock prices over time).\n",
        "* **Hidden State:** A set of values that capture the memory of the RNN from previous steps.\n",
        "* **Output:** The prediction or decision at each step in the sequence.\n",
        "\n",
        "**Common disadvantages of RNN**\n",
        "\n",
        "According to Donges,2024 below are some common challenges with RNNs which makes it difficult for basic RNNs to remember long-term dependencies in the data:\n",
        "\n",
        "* Vanishing gradients: During training, RNNs use backpropagation to update weights. However, as the sequence gets longer, the gradients (which indicate how much to update the weights) can become very small (vanish), making it difficult to learn long-term dependencies. This was solved through the concept of LSTM by Sepp Hochreiter and Juergen Schmidhuber.\n",
        "\n",
        "* Exploding gradients: Conversely, gradients can sometimes become too large, causing unstable weight updates and making the training process difficult.This problem can be easily solved by truncating or squashing the gradients.\n",
        "\n",
        "* Complex training process: Because RNNs process data sequentially, this can result in a tedious training process.\n",
        "\n",
        "* Difficulty with long sequences: The longer the sequence, the harder RNNs must work to remember past information.\n",
        "\n",
        "* Inefficient methods: RNNs process data sequentially, which can be a slow and inefficient approach.  \n",
        "\n",
        "To address the issues with basic RNNs, especially the vanishing gradient problem, a more advanced type of RNN called Long Short-Term Memory (LSTM) was developed. LSTMs are capable of learning long-term dependencies by using a more complex architecture that carefully regulates the flow of information."
      ],
      "metadata": {
        "id": "oZk2stodHYZf"
      }
    },
    {
      "cell_type": "markdown",
      "source": [
        "**Brief Description of the Dataset**"
      ],
      "metadata": {
        "id": "6FLXCl29T722"
      }
    },
    {
      "cell_type": "markdown",
      "source": [
        "The dataset consists of two parts: a training set with 74,682 entries and a validation set with 1510\n",
        "entries. Each entry includes a tweet ID, entity, sentiment label, and tweet content"
      ],
      "metadata": {
        "id": "pBj2PeNdUFN3"
      }
    },
    {
      "cell_type": "markdown",
      "source": [
        "**Why the Dataset is Appropriate for Text Processing**"
      ],
      "metadata": {
        "id": "tT2FkejBU0Dy"
      }
    },
    {
      "cell_type": "markdown",
      "source": [
        "1. **Sequential nature of textual data**\n",
        "\n",
        "The core reason for using RNN is that its a good fit for analyzing this dataset because of its sequential nature of textual data. When processing natural language (such as Twitter messages), the meaning of each word depends not only on the word itself but also on the surrounding words in the sentence. This means that the sentiment of the message regarding a given entity can only be understood by considering the order of the words and the context in which they appear.\n",
        "\n",
        "2. **Entity-Level Analysis**\n",
        "\n",
        "The dataset requires sentiment analysis at the entity level, meaning that the task is not just about understanding the general sentiment of a message but also the sentiment specifically about a given entity. For example, a tweet like:\n",
        "\n",
        "* \"Microsoft's new Windows OS is great, but their customer service is disappointing.\"\n",
        "\n",
        "* has both positive sentiment about \"Windows\" and negative sentiment about \"customer service.\"\n",
        "\n",
        "* RNNs, particularly LSTMs, can be trained to focus on the parts of the message that pertain to the entity being analyzed. The network processes each word in the sequence and can \"remember\" important aspects from earlier in the text that relate to the entity. This memory allows the model to correctly associate sentiment with the relevant entity, even when the sentence is long or contains multiple sentiments.\n",
        "\n",
        "3. **Handling Long and Short Sentences**\n",
        "\n",
        "Social media data, especially tweets, can be highly variable in length. Some tweets may be short, while others are longer and more complex.\n",
        "\n",
        "4. **Class Imbalance (Positive, Negative, Neutral)**\n",
        "\n",
        "The dataset contains three sentiment classes: Positive, Negative, and Neutral. One challenge in sentiment analysis is that the distribution of these classes may be imbalanced. RNNs, with proper tuning and regularization, can handle imbalanced data relatively well.\n",
        "\n",
        "5. **Contextual Understanding for Sentiment**\n",
        "\n",
        "In sentiment analysis, understanding context is crucial. Words or phrases can carry different sentiments depending on the context in which they are used. RNNs, and especially LSTMs, excel in contextual understanding because they can maintain information from earlier in the sentence and use it to interpret the meaning of words or phrases that appear later. This is critical for accurately determining the sentiment in the dataset, where different tweets may express sentiment in nuanced ways.\n",
        "\n",
        "6. **RNNs and Multiclass Classification**\n",
        "\n",
        "In this dataset, the task is to classify each tweet as either\n",
        "positive, negative, or neutral regarding a specific entity. RNNs, especially with LSTM layers, are powerful tools for multi-class classification tasks because they can learn to differentiate between subtle differences in text that correspond to each class."
      ],
      "metadata": {
        "id": "w-8UDTfqU2hj"
      }
    },
    {
      "cell_type": "markdown",
      "source": [
        "**Explanation of the Analysis to Be Performed and the Aim**"
      ],
      "metadata": {
        "id": "26dm5jywbf9I"
      }
    },
    {
      "cell_type": "markdown",
      "source": [
        "**Key Question:**\n",
        "Can the RNN with LSTM accurately classify tweets based on their sentiment?\n",
        "\n",
        "**Analysis to Be Performed on the Dataset**\n",
        "\n",
        "The analysis of the entity-level sentiment analysis dataset of Twitter will focus on building a machine learning model, specifically a Recurrent Neural Network (RNN) with Long Short-Term Memory (LSTM) units, to predict the sentiment of tweets related to a specific entity. The goal is to classify each tweet as positive, negative, or neutral regarding the entity mentioned in the tweet.\n",
        "\n",
        "Here is a step-by-step breakdown of the analysis:\n",
        "\n",
        "**Data Preprocessing, Exploration & Model building.**\n",
        "\n",
        "The objective is to prepare the raw data for input into the RNN and explore the dataset to understand its structure, distribution, and potential issues.\n",
        "\n",
        "* Loading the Data: Import the dataset into a Spark DataFrame, verify its structure, and inspect the first few rows.\n",
        "* Assigning Column Names: Assign the correct column names to ensure the data is readable: Tweet_ID, Entity, Sentiment, and Text.\n",
        "* Data Cleaning: Clean the text by removing unnecessary characters (e.g., URLs, punctuation, emojis, special characters), converting all text to lowercase, and handling missing or incomplete data.\n",
        "* Analyze the distribution of sentiments across the dataset (positive, negative, neutral).\n",
        "* Explore the most frequent entities and words.\n",
        "* Visualize word distributions using word clouds or frequency plots.\n",
        "* Tokenization: Break down the text into individual tokens (words) and convert them into sequences of integers (for input into the neural network).\n",
        "* Padding: Ensure all sequences are of the same length by padding shorter sequences with zeros.\n",
        "* Build and train an RNN with LSTM layers to classify the sentiment of each tweet.\n",
        "* Ensure the model generalizes well to new, unseen data.\n",
        "* Optimize the model’s performance by tuning its hyperparameters.\n",
        "* Evaluate the performance of the model and interpret the results."
      ],
      "metadata": {
        "id": "52LEDBzQbkP1"
      }
    },
    {
      "cell_type": "markdown",
      "source": [
        "**Reference of Datasource**"
      ],
      "metadata": {
        "id": "2qNGehtkfQE7"
      }
    },
    {
      "cell_type": "markdown",
      "source": [
        "Datasource Kaggle [Twitter Sentiment Analysis Dataset](https://www.kaggle.com/datasets/jp797498e/twitter-entity-sentiment-analysis)"
      ],
      "metadata": {
        "id": "Gt-lTLVxfVxP"
      }
    },
    {
      "cell_type": "markdown",
      "source": [
        "# **Setup and Import Relevant Library**"
      ],
      "metadata": {
        "id": "9GWemiFhMupo"
      }
    },
    {
      "cell_type": "markdown",
      "source": [
        "# **Install Spark**"
      ],
      "metadata": {
        "id": "n25WoPQNTkN0"
      }
    },
    {
      "cell_type": "code",
      "execution_count": null,
      "metadata": {
        "id": "KB4CmefOKaEK"
      },
      "outputs": [],
      "source": [
        "!pip install pyspark"
      ]
    },
    {
      "cell_type": "code",
      "source": [
        "import numpy as np\n",
        "import pandas as pd"
      ],
      "metadata": {
        "id": "hVAEq6yhjH_S"
      },
      "execution_count": null,
      "outputs": []
    },
    {
      "cell_type": "markdown",
      "source": [
        "# **Download Dataset From Kaggle**"
      ],
      "metadata": {
        "id": "xmhPOCD_TuQ-"
      }
    },
    {
      "cell_type": "code",
      "source": [
        "! kaggle datasets list\n",
        "# Copy API command from Kaggle\n",
        "!kaggle datasets download -d jp797498e/twitter-entity-sentiment-analysis"
      ],
      "metadata": {
        "id": "DIM5gQzEKoQ7"
      },
      "execution_count": null,
      "outputs": []
    },
    {
      "cell_type": "markdown",
      "source": [
        "# **Load Dataset**"
      ],
      "metadata": {
        "id": "MYqKyyPpT4VB"
      }
    },
    {
      "cell_type": "code",
      "source": [
        "import os\n",
        "import zipfile\n",
        "from pyspark.sql import SparkSession\n",
        "\n",
        "# Create a Spark session\n",
        "spark = SparkSession.builder.appName(\"TwitterSentimentAnalysis\").getOrCreate()\n",
        "\n",
        "# Path to zip file\n",
        "zip_file_path = 'twitter-entity-sentiment-analysis.zip'\n",
        "\n",
        "# Creating a temporary directory to extract files\n",
        "temp_dir = 'temp_twitter_data'\n",
        "os.makedirs(temp_dir, exist_ok=True)\n",
        "\n",
        "# Extract the zip file\n",
        "with zipfile.ZipFile(zip_file_path, 'r') as zip_ref:\n",
        "    zip_ref.extractall(temp_dir)\n",
        "\n",
        "# List the extracted files\n",
        "extracted_files = os.listdir(temp_dir)\n",
        "print(\"Extracted files: \", extracted_files)\n"
      ],
      "metadata": {
        "id": "9CCbJhAOK_43"
      },
      "execution_count": null,
      "outputs": []
    },
    {
      "cell_type": "code",
      "source": [
        "# Define column names\n",
        "column_names = ['Tweet_ID', 'Entity', 'Sentiment', 'Text']\n",
        "\n",
        "# Loading dataset\n",
        "training_file_path = os.path.join(temp_dir, 'twitter_training.csv')\n",
        "validation_file_path = os.path.join(temp_dir, 'twitter_validation.csv')\n",
        "\n",
        "# Load the CSV file into a Spark DataFrame\n",
        "df_training = spark.read.csv(training_file_path, header=False, inferSchema=True).toDF(*column_names)\n",
        "df_validation = spark.read.csv(validation_file_path, header=False, inferSchema=True).toDF(*column_names)\n",
        "\n",
        "# Display the first 5 rows to confirm it's loaded correctly\n",
        "df_training.show(5)\n",
        "\n",
        "# Display the first 5 rows to confirm it's loaded correctly\n",
        "df_validation.show(5)\n"
      ],
      "metadata": {
        "id": "HAHAakjpLZ8-"
      },
      "execution_count": null,
      "outputs": []
    },
    {
      "cell_type": "markdown",
      "source": [
        "# **Exploratory Data Analysis (EDA)**"
      ],
      "metadata": {
        "id": "hTlQgIqnUE0_"
      }
    },
    {
      "cell_type": "code",
      "source": [
        "# Basic Information checking the schema.\n",
        "#Essential to verify the structure of the dataset to ensure the data has been #loaded correctly.Once the schema has been verified and confirm the data types #are correct,l will proceed to data cleaning and preprocessing.\n",
        "\n",
        "df_training.printSchema()\n",
        "df_validation.printSchema()"
      ],
      "metadata": {
        "id": "_55XFKJjNSzu"
      },
      "execution_count": null,
      "outputs": []
    },
    {
      "cell_type": "code",
      "source": [
        "# Checking total number of rows (records) in the Training DataFrame\n",
        "df_training.count()"
      ],
      "metadata": {
        "id": "toGmBEmbNXYY"
      },
      "execution_count": null,
      "outputs": []
    },
    {
      "cell_type": "code",
      "source": [
        "# Checking total number of rows (records) in the Validation DataFrame\n",
        "df_validation.count()"
      ],
      "metadata": {
        "id": "17nCG-yRNkfK"
      },
      "execution_count": null,
      "outputs": []
    },
    {
      "cell_type": "markdown",
      "source": [
        "# **Data Distribution and Imbalance**"
      ],
      "metadata": {
        "id": "OkXLTOKXVYJP"
      }
    },
    {
      "cell_type": "code",
      "source": [
        "#Sentiment Distribution: Check the distribution of sentiment classes (e.g., #positive, negative, neutral,Irrelevant) to see if there is any imbalance.\n",
        "df_training.groupBy(\"Sentiment\").count().show()"
      ],
      "metadata": {
        "id": "zIb0YLxsQYcQ"
      },
      "execution_count": null,
      "outputs": []
    },
    {
      "cell_type": "markdown",
      "source": [
        "The sentiment distribution in the training data reveals that the dataset is relatively balanced across\n",
        "the Positive, Neutral, and Negative sentiment categories, with each category having a substantial\n",
        "number of entries. The Negative sentiment has the highest count, followed by Positive, and then\n",
        "Neutral. The Irrelevant category, while still significant, has noticeably fewer entries compared\n",
        "to the other sentiments. This distribution indicates that the dataset provides a good variety of\n",
        "sentiment classes for training a sentiment analysis model.\n",
        "\n",
        "However, the irrelevant sentiment suggests that some tweets in the dataset do not express a sentiment related to the target entities thus marked as irrelevant. As such l will remove the irrelavant sentiment from the dataset."
      ],
      "metadata": {
        "id": "gp3cHUbrkipP"
      }
    },
    {
      "cell_type": "code",
      "source": [
        "#Removing irrelavant sentiment from training dataset\n",
        "df_training = df_training.filter(df_training.Sentiment != 'Irrelevant')"
      ],
      "metadata": {
        "id": "BNrxv2d_lf16"
      },
      "execution_count": null,
      "outputs": []
    },
    {
      "cell_type": "code",
      "source": [
        "#Removing irrelavant sentiment from training dataset\n",
        "df_validation = df_validation.filter(df_validation.Sentiment != 'Irrelevant')"
      ],
      "metadata": {
        "id": "FIK80c_Vl8Nx"
      },
      "execution_count": null,
      "outputs": []
    },
    {
      "cell_type": "code",
      "source": [
        "#Verifying removal\n",
        "df_training.groupBy(\"Sentiment\").count().show()\n",
        "df_validation.groupBy(\"Sentiment\").count().show()"
      ],
      "metadata": {
        "id": "2Z_CuldymIoy"
      },
      "execution_count": null,
      "outputs": []
    },
    {
      "cell_type": "markdown",
      "source": [
        "Validation dataset contains a lot of noisy and irrelevant sentiment values. To focus only on Positive, Negative, and Neutral sentiments, l will filter the dataset to remove the irrelevant entries."
      ],
      "metadata": {
        "id": "5FTaQ-hDoJt1"
      }
    },
    {
      "cell_type": "code",
      "source": [
        "# Filter the validation dataset to keep only rows with valid sentiments\n",
        "valid_sentiments = [\"Positive\", \"Negative\", \"Neutral\"]\n",
        "df_validation_clean = df_validation.filter(df_validation.Sentiment.isin(valid_sentiments))\n",
        "\n",
        "# Show the counts of the filtered validation dataset\n",
        "df_validation_clean.groupBy(\"Sentiment\").count().show()"
      ],
      "metadata": {
        "id": "9lJQHTpGoVDx"
      },
      "execution_count": null,
      "outputs": []
    },
    {
      "cell_type": "markdown",
      "source": [
        "**Creating a Bar plot to visualize sentiments**"
      ],
      "metadata": {
        "id": "aqTjzPaym3xw"
      }
    },
    {
      "cell_type": "code",
      "source": [
        "# Group by sentiment and count for both datasets\n",
        "sentiment_counts_training = df_training.groupBy(\"Sentiment\").count().toPandas()\n",
        "sentiment_counts_validation_clean = df_validation_clean.groupBy(\"Sentiment\").count().toPandas()\n",
        "\n",
        "import matplotlib.pyplot as plt\n",
        "import seaborn as sns\n",
        "\n",
        "# Set up the figure size\n",
        "plt.figure(figsize=(10, 6))\n",
        "\n",
        "# Plot for training dataset\n",
        "plt.subplot(1, 2, 1)  # 1 row, 2 columns, 1st plot\n",
        "sns.barplot(x='Sentiment', y='count', data=sentiment_counts_training, palette=\"viridis\")\n",
        "plt.title(\"Training Dataset Sentiment Distribution\")\n",
        "plt.xlabel(\"Sentiment\")\n",
        "plt.ylabel(\"Count\")\n",
        "\n",
        "# Plot for validation dataset\n",
        "plt.subplot(1, 2, 2)  # 1 row, 2 columns, 2nd plot\n",
        "sns.barplot(x='Sentiment', y='count', data=sentiment_counts_validation_clean, palette=\"magma\")\n",
        "plt.title(\"Cleaned Validation Dataset Sentiment Distribution\")\n",
        "plt.xlabel(\"Sentiment\")\n",
        "plt.ylabel(\"Count\")\n",
        "plt.show()\n",
        "\n",
        "# Show the plots\n",
        "plt.tight_layout()\n",
        "plt.show()\n"
      ],
      "metadata": {
        "id": "b4aCohxSnFCI"
      },
      "execution_count": null,
      "outputs": []
    },
    {
      "cell_type": "markdown",
      "source": [
        "I am happy the \"Positive,\" \"Neutral,\" and \"Negative\" classes are fairly balanced in terms of the number of records, which is ideal for training a machine learning model.\n",
        "This balanced distribution means that the model is less likely to be biased towards any one sentiment."
      ],
      "metadata": {
        "id": "O3fBYAkopm3S"
      }
    },
    {
      "cell_type": "code",
      "source": [
        "#Entity Distribution:\n",
        "df_training.groupBy(\"Entity\").count().orderBy(\"count\", ascending=False).show(10)"
      ],
      "metadata": {
        "id": "yxRmfW-AQflr"
      },
      "execution_count": null,
      "outputs": []
    },
    {
      "cell_type": "markdown",
      "source": [
        "This helps me to understand which entities are most commonly associated with sentiment in your dataset. In analysis l will not remove any entity."
      ],
      "metadata": {
        "id": "aiDZS6N880dr"
      }
    },
    {
      "cell_type": "markdown",
      "source": [
        "# Text Analysis: Word Count"
      ],
      "metadata": {
        "id": "CWjNKqIFRBi1"
      }
    },
    {
      "cell_type": "code",
      "source": [
        "from pyspark.sql.functions import split, size, col\n",
        "\n",
        "# Correctly split the text based on spaces between words\n",
        "df_training = df_training.withColumn(\"Word_Count\", size(split(col(\"Text\"), \" \")))\n",
        "\n",
        "# Group by word count, count occurrences, and order by word count\n",
        "df_training.groupBy(\"Word_Count\").count().orderBy(\"Word_Count\").show()\n"
      ],
      "metadata": {
        "id": "OAnaV-gWQrIb"
      },
      "execution_count": null,
      "outputs": []
    },
    {
      "cell_type": "markdown",
      "source": [
        "There is a row with a word count of -1, which is incorrect because word counts should always be positive. This could be caused by missing or incorrectly formatted text data in the Text column (e.g., empty strings or null values). I will have to clean the Text column by filtering out or handling rows that might be causing this issue."
      ],
      "metadata": {
        "id": "rQiZOcn0-lqB"
      }
    },
    {
      "cell_type": "code",
      "source": [
        "from pyspark.sql.functions import when, length\n",
        "\n",
        "# Replace empty strings or nulls with 0 word count\n",
        "df_training = df_training.withColumn(\n",
        "    \"Word_Count\",\n",
        "    when(length(col(\"Text\")) == 0, 0)\n",
        "    .otherwise(size(split(col(\"Text\"), \" \")))\n",
        ")\n",
        "\n",
        "# Filter out negative word counts if they still exist\n",
        "df_training = df_training.filter(col(\"Word_Count\") >= 0)\n",
        "\n",
        "#group by word count and display the results\n",
        "df_training.groupBy(\"Word_Count\").count().orderBy(\"Word_Count\").show(20)"
      ],
      "metadata": {
        "id": "lUiVg9Oy_YyS"
      },
      "execution_count": null,
      "outputs": []
    },
    {
      "cell_type": "markdown",
      "source": [
        "Interpretation: 2045 tweets contains 1 word 1575 tweets contains 2 words and so on. This analysis gives me an insight into the length distribution of the texts in my dataset, which is helpful for tasks like padding sequences before feeding them into a neural network model."
      ],
      "metadata": {
        "id": "XmtxJZAq_5q1"
      }
    },
    {
      "cell_type": "markdown",
      "source": [
        "# Text Analysis: Tweet Length"
      ],
      "metadata": {
        "id": "3b44p3ghQxol"
      }
    },
    {
      "cell_type": "code",
      "source": [
        "from pyspark.sql.functions import length\n",
        "\n",
        "df_training = df_training.withColumn(\"Tweet_Length\", length(\"Text\"))\n",
        "df_training.groupBy(\"Tweet_Length\").count().orderBy(\"Tweet_Length\").show()"
      ],
      "metadata": {
        "id": "aX4wJpsEQkH1"
      },
      "execution_count": null,
      "outputs": []
    },
    {
      "cell_type": "code",
      "source": [
        "# Convert the Spark DataFrame into Pandas\n",
        "pandas_df = df_training.groupBy(\"Tweet_Length\").count().orderBy(\"Tweet_Length\").toPandas()\n",
        "\n",
        "# Bar chart\n",
        "plt.figure(figsize=(12, 6))\n",
        "plt.bar(pandas_df['Tweet_Length'], pandas_df['count'], color='skyblue')\n",
        "plt.xlabel('Tweet Length (characters)')\n",
        "plt.ylabel('Count')\n",
        "plt.title('Distribution of Tweet Lengths')\n",
        "plt.xticks(rotation=90)  # Rotate x-axis labels for better visibility\n",
        "#plt.tight_layout()\n",
        "plt.show()\n"
      ],
      "metadata": {
        "id": "OTew-CQ9BVvE"
      },
      "execution_count": null,
      "outputs": []
    },
    {
      "cell_type": "markdown",
      "source": [
        "# Text Analysis: Frequent Words:"
      ],
      "metadata": {
        "id": "b_CTaAzeRMRV"
      }
    },
    {
      "source": [
        "from pyspark.ml.feature import Tokenizer, StopWordsRemover\n",
        "from pyspark.sql.functions import explode, col\n",
        "\n",
        "# Drop rows with null values in the \"Text\" column\n",
        "df_training = df_training.na.drop(subset=[\"Text\"])\n",
        "\n",
        "tokenizer = Tokenizer(inputCol=\"Text\", outputCol=\"Words\")\n",
        "wordsData = tokenizer.transform(df_training)\n",
        "\n",
        "remover = StopWordsRemover(inputCol=\"Words\", outputCol=\"Filtered_Words\")\n",
        "filteredData = remover.transform(wordsData)\n",
        "\n",
        "filteredData.select(explode(col(\"Filtered_Words\")).alias(\"Word\")).groupBy(\"Word\").count().orderBy(\"count\", ascending=False).show(20)"
      ],
      "cell_type": "code",
      "metadata": {
        "id": "zjIY0u9lSOmC"
      },
      "execution_count": null,
      "outputs": []
    },
    {
      "cell_type": "markdown",
      "source": [
        "Checking for Missing Values"
      ],
      "metadata": {
        "id": "pZu6wGsEOJFN"
      }
    },
    {
      "cell_type": "code",
      "source": [
        "from pyspark.sql.functions import col, sum\n",
        "\n",
        "df_training.select([sum(col(c).isNull().cast(\"int\")).alias(c) for c in df_training.columns]).show()"
      ],
      "metadata": {
        "id": "MQjGw4njOKRi"
      },
      "execution_count": null,
      "outputs": []
    },
    {
      "cell_type": "code",
      "source": [
        "df_validation_clean.select([sum(col(c).isNull().cast(\"int\")).alias(c) for c in df_validation_clean.columns]).show()"
      ],
      "metadata": {
        "id": "-L7SbnnuObhw"
      },
      "execution_count": null,
      "outputs": []
    },
    {
      "cell_type": "markdown",
      "source": [
        "# Average Tweet Length by Sentiment:"
      ],
      "metadata": {
        "id": "RiuKLf_OSd8Q"
      }
    },
    {
      "cell_type": "code",
      "source": [
        "df_training.groupBy(\"Sentiment\").avg(\"Tweet_Length\").show()"
      ],
      "metadata": {
        "id": "NynqwDh3SfPT"
      },
      "execution_count": null,
      "outputs": []
    },
    {
      "cell_type": "markdown",
      "source": [
        "* General Interpretation:\n",
        "\n",
        "The shorter average length of **positive** tweets suggests that positive emotions are often expressed briefly and directly.\n",
        "**Neutral** tweets being the longest indicates that neutral statements may require more elaboration to convey the full context or objective information.\n",
        "**Negative** tweets are relatively long but not as lengthy as neutral ones, likely due to the need for explanation or venting, but they may still be shorter than neutral tweets as users may prioritize emotional expression over detail.\n",
        "\n",
        "\n",
        "This analysis help guide NLP models, as tweet length could correlate with the complexity of sentiment, influencing how to structure a recurrent neural network (RNN) or Long Short-Term Memory (LSTM) model for sentiment classification."
      ],
      "metadata": {
        "id": "qUKvPvFADYwf"
      }
    },
    {
      "cell_type": "markdown",
      "source": [
        "# Frequent Words by Sentiment:"
      ],
      "metadata": {
        "id": "QeiB5pa4SqUG"
      }
    },
    {
      "cell_type": "code",
      "source": [
        "filteredData.select(\"Sentiment\", explode(col(\"Filtered_Words\")).alias(\"Word\")).groupBy(\"Sentiment\", \"Word\").count().orderBy(\"Sentiment\", \"count\", ascending=False).show(20)"
      ],
      "metadata": {
        "id": "KLhlYK6OSjmD"
      },
      "execution_count": null,
      "outputs": []
    },
    {
      "cell_type": "markdown",
      "source": [
        "# **Data Preprocessing For RNN**"
      ],
      "metadata": {
        "id": "UwzAKY5CmR0C"
      }
    },
    {
      "cell_type": "markdown",
      "source": [
        "I will prepare the text data by tokenizing and transforming it into numerical sequences that can be the input into the LSTM model.\n",
        "\n",
        "To develop a Recurrent Neural Network (RNN) with Long Short-Term Memory (LSTM) layers for sentiment analysis task, we'll break down the process into manageable steps. I will proceed with the PySpark DataFrame for data preparation and the Keras library for building and training the LSTM model.\n",
        "\n",
        "Below is the step-by-step guide for that."
      ],
      "metadata": {
        "id": "OfCzNK9tmbzO"
      }
    },
    {
      "cell_type": "markdown",
      "source": [
        "# **Tokenization and Padding**"
      ],
      "metadata": {
        "id": "LAwwoxMOTheV"
      }
    },
    {
      "cell_type": "markdown",
      "source": [
        "We will use Keras' Tokenizer to convert the text data into sequences and pad them to ensure all inputs to the model have the same length.\n",
        "\n",
        "**Quick Summary of the Process:**\n",
        "\n",
        "The tweets will first be converted into sequences of integers using a tokenizer.\n",
        "\n",
        "These sequences are then padded to ensure uniform input length.\n",
        "\n",
        "Sentiments are then mapped to numerical values and one-hot encoded to make them suitable for training a classification model (like a Recurrent Neural Network).\n",
        "\n",
        "These preprocessed inputs (padded_sequences) and outputs (y_train) will be used to train an RNN model (using LSTM) for sentiment classification."
      ],
      "metadata": {
        "id": "lUAKZH3el71k"
      }
    },
    {
      "source": [
        "!pip install keras-preprocessing\n",
        "!pip install tensorflow\n",
        "!pip install keras\n",
        "\n",
        "from tensorflow.keras.preprocessing.text import Tokenizer\n",
        "from tensorflow.keras.preprocessing.sequence import pad_sequences\n",
        "from tensorflow.keras.utils import to_categorical\n",
        "\n",
        "\n",
        "# Extract the text and sentiment columns from Spark DataFrame and convert to Pandas\n",
        "training_data = df_training.select(\"Text\", \"Sentiment\").toPandas()\n",
        "\n",
        "# Tokenizer - fit on the training data text\n",
        "tokenizer = Tokenizer(num_words=10000, oov_token='<OOV>')\n",
        "tokenizer.fit_on_texts(training_data['Text'])\n",
        "\n",
        "# Convert the text data to sequences of integers\n",
        "sequences = tokenizer.texts_to_sequences(training_data['Text'])\n",
        "\n",
        "# Pad the sequences to ensure uniform input length\n",
        "max_len = 50  # Define max length for padding\n",
        "padded_sequences = pad_sequences(sequences, maxlen=max_len, padding='post')\n",
        "\n",
        "# Convert Sentiment to numerical labels\n",
        "sentiment_mapping = {'Neutral': 0, 'Positive': 1, 'Negative': 2}\n",
        "training_data['Sentiment'] = training_data['Sentiment'].map(sentiment_mapping)\n",
        "\n",
        "# Convert the numerical labels to one-hot encoded vectors\n",
        "y_train = to_categorical(training_data['Sentiment'], num_classes=3)"
      ],
      "cell_type": "code",
      "metadata": {
        "id": "-txoULiNj17z"
      },
      "execution_count": null,
      "outputs": []
    },
    {
      "cell_type": "code",
      "source": [
        "#Verify Data Shapes:\n",
        "print(\"X_train shape:\", X_train.shape)\n",
        "print(\"X_val shape:\", X_val.shape)\n",
        "print(\"y_train shape:\", y_train.shape)\n",
        "print(\"y_val shape:\", y_val.shape)"
      ],
      "metadata": {
        "id": "RVFTF4SdPwhW"
      },
      "execution_count": null,
      "outputs": []
    },
    {
      "cell_type": "markdown",
      "source": [
        "# **Split Data into Training and Validation Sets**"
      ],
      "metadata": {
        "id": "_hQQlWx2m52J"
      }
    },
    {
      "cell_type": "markdown",
      "source": [
        "Will split the data into training and validation sets for model training."
      ],
      "metadata": {
        "id": "OTjWycswnCD6"
      }
    },
    {
      "cell_type": "code",
      "source": [
        "from sklearn.model_selection import train_test_split\n",
        "\n",
        "# Define features (padded sequences) and labels (sentiment)\n",
        "X = padded_sequences\n",
        "y = training_data['Sentiment'].values\n",
        "\n",
        "# Convert labels to one-hot encoding\n",
        "y_one_hot = to_categorical(y)\n",
        "\n",
        "# Split into training and validation sets\n",
        "X_train, X_val, y_train, y_val = train_test_split(X, y_one_hot, test_size=0.2, random_state=42)"
      ],
      "metadata": {
        "id": "jvsjZYWWlxwZ"
      },
      "execution_count": null,
      "outputs": []
    },
    {
      "cell_type": "code",
      "source": [
        "print(\"y_train shape:\", y_train.shape)\n",
        "print(\"y_val shape:\", y_val.shape)"
      ],
      "metadata": {
        "id": "gWAP3pLkRGFq"
      },
      "execution_count": null,
      "outputs": []
    },
    {
      "cell_type": "markdown",
      "source": [
        "# **Build the LSTM Model**"
      ],
      "metadata": {
        "id": "WkRpvF_8nRZV"
      }
    },
    {
      "cell_type": "markdown",
      "source": [
        "Next, will build the LSTM model using Keras. Here's how to develop an LSTM-based RNN for sentiment analysis.\n",
        "\n"
      ],
      "metadata": {
        "id": "YkNveaXKnUji"
      }
    },
    {
      "cell_type": "code",
      "source": [
        "from keras.models import Sequential\n",
        "from keras.layers import Embedding, LSTM, Dense, Dropout\n",
        "\n",
        "# Build the model\n",
        "model = Sequential()\n",
        "\n",
        "# Add an embedding layer (10000 words and embedding size of 128)\n",
        "model.add(Embedding(input_dim=10000, output_dim=128))\n",
        "\n",
        "# Add LSTM layer\n",
        "model.add(LSTM(128, return_sequences=False))\n",
        "\n",
        "# Add a Dropout layer to prevent overfitting\n",
        "model.add(Dropout(0.5))\n",
        "\n",
        "# Add output layer (Softmax for multi-class classification)\n",
        "model.add(Dense(3, activation='softmax'))\n",
        "\n",
        "# Compile the model\n",
        "model.compile(optimizer='adam', loss='categorical_crossentropy', metrics=['accuracy'])\n",
        "\n",
        "# Print model summary\n",
        "model.summary()\n"
      ],
      "metadata": {
        "id": "Eu0bt6Y2nTs0"
      },
      "execution_count": null,
      "outputs": []
    },
    {
      "cell_type": "markdown",
      "source": [
        "# **Train the Model**"
      ],
      "metadata": {
        "id": "-qbmvZmGntc_"
      }
    },
    {
      "cell_type": "markdown",
      "source": [
        "Training the model using the training set."
      ],
      "metadata": {
        "id": "eDVDc5MEn0U8"
      }
    },
    {
      "cell_type": "code",
      "source": [
        "# Train the LSTM model\n",
        "history = model.fit(X_train, y_train, epochs=5, batch_size=64, validation_data=(X_val, y_val))"
      ],
      "metadata": {
        "id": "m5LXo1-mnwwp"
      },
      "execution_count": null,
      "outputs": []
    },
    {
      "cell_type": "markdown",
      "source": [
        "# **Evaluate the Model**"
      ],
      "metadata": {
        "id": "jY0wr-FhoSAa"
      }
    },
    {
      "cell_type": "markdown",
      "source": [
        "Once the model is trained, now l can evaluate its performance on the validation set."
      ],
      "metadata": {
        "id": "umLfw2yxoZs_"
      }
    },
    {
      "cell_type": "code",
      "source": [
        "# Evaluate the model on the validation set\n",
        "loss, accuracy = model.evaluate(X_val, y_val)\n",
        "print(f\"Validation Accuracy: {accuracy * 100:.2f}%\")"
      ],
      "metadata": {
        "id": "yAX5ThCfoZHo"
      },
      "execution_count": null,
      "outputs": []
    },
    {
      "cell_type": "markdown",
      "source": [
        "# **Plot the Training History**"
      ],
      "metadata": {
        "id": "ov-Hc_fEonFg"
      }
    },
    {
      "cell_type": "markdown",
      "source": [
        "Now l want to visualize the performance, l will plot the accuracy and loss over epochs.\n",
        "\n",
        "This plot of training and validation loss/accuracy curves will help me to understand better how my model is performing over epochs."
      ],
      "metadata": {
        "id": "dMfQoTLaotWj"
      }
    },
    {
      "cell_type": "code",
      "source": [
        "import matplotlib.pyplot as plt\n",
        "\n",
        "# Plot accuracy\n",
        "plt.plot(history.history['accuracy'], label='train accuracy')\n",
        "plt.plot(history.history['val_accuracy'], label='val accuracy')\n",
        "plt.title('Model Accuracy')\n",
        "plt.xlabel('Epochs')\n",
        "plt.ylabel('Accuracy')\n",
        "plt.legend()\n",
        "plt.show()\n",
        "\n",
        "# Plot loss\n",
        "plt.plot(history.history['loss'], label='train loss')\n",
        "plt.plot(history.history['val_loss'], label='val loss')\n",
        "plt.title('Model Loss')\n",
        "plt.xlabel('Epochs')\n",
        "plt.ylabel('Loss')\n",
        "plt.legend()\n",
        "plt.show()"
      ],
      "metadata": {
        "id": "fIOkKyAuosCm"
      },
      "execution_count": null,
      "outputs": []
    },
    {
      "cell_type": "markdown",
      "source": [
        "# **Address Overfitting**"
      ],
      "metadata": {
        "id": "QDD-I8j_o4tG"
      }
    },
    {
      "cell_type": "markdown",
      "source": [
        "To mitigate overfitting:\n",
        "* I use Dropout: Already applied a 50% dropout layer.\n",
        "* Now adding Early Stopping: Stop training when validation loss stops improving.\n"
      ],
      "metadata": {
        "id": "tRVIouE2pBiT"
      }
    },
    {
      "cell_type": "code",
      "source": [
        "from keras.callbacks import EarlyStopping\n",
        "\n",
        "# Use EarlyStopping to stop training when validation loss plateaus\n",
        "early_stopping = EarlyStopping(monitor='val_loss', patience=3, restore_best_weights=True)\n",
        "\n",
        "# Re-train the model with early stopping\n",
        "history = model.fit(X_train, y_train, epochs=10, batch_size=64, validation_data=(X_val, y_val), callbacks=[early_stopping])"
      ],
      "metadata": {
        "id": "ZtupXBOspAtm"
      },
      "execution_count": null,
      "outputs": []
    },
    {
      "cell_type": "markdown",
      "source": [
        "# **Confusion Matrix and Classification Report**"
      ],
      "metadata": {
        "id": "pElnW9qLpT3e"
      }
    },
    {
      "cell_type": "markdown",
      "source": [
        "To evaluate the model performance further, i will create a confusion matrix and classification report."
      ],
      "metadata": {
        "id": "iILdJjHApZD5"
      }
    },
    {
      "source": [
        "from sklearn.metrics import confusion_matrix, classification_report\n",
        "\n",
        "# Predict on the validation set\n",
        "y_pred = (model.predict(X_val) > 0.5).astype(\"int32\")\n",
        "\n",
        "# Convert multi-label predictions to single-label predictions\n",
        "y_pred_single = np.argmax(y_pred, axis=1)\n",
        "\n",
        "# Convert multi-label true values to single-label true values\n",
        "y_val_single = np.argmax(y_val, axis=1)\n",
        "\n",
        "# Confusion Matrix\n",
        "conf_matrix = confusion_matrix(y_val_single, y_pred_single)\n",
        "print(\"Confusion Matrix:\\n\", conf_matrix)\n",
        "\n",
        "# Classification Report\n",
        "class_report = classification_report(y_val_single, y_pred_single)\n",
        "print(\"Classification Report:\\n\", class_report)"
      ],
      "cell_type": "code",
      "metadata": {
        "id": "jYJSfY7of3LG"
      },
      "execution_count": null,
      "outputs": []
    },
    {
      "cell_type": "markdown",
      "source": [
        "The model demonstrates strong performance in sentiment classification with an overall accuracy of 88%. It achieves high precision, recall, and F1-scores across all sentiment categories: Neutral, Positive, and Negative. The Neutral class has slightly lower precision compared to Positive and Negative, but overall, the model effectively distinguishes between sentiments with robust metrics. The classification report and confusion matrix indicate that the model handles class imbalance well, providing reliable predictions for each sentiment category. This performance reflects a well-tuned model capable of accurately interpreting sentiment in tweets."
      ],
      "metadata": {
        "id": "8STES0ITiPXI"
      }
    },
    {
      "cell_type": "markdown",
      "source": [
        "I am happy with the performance of the model on Training dataset, now l am going to use my Validation dataset to see how the model will perform on unseen data."
      ],
      "metadata": {
        "id": "UMksXFYii_O4"
      }
    },
    {
      "cell_type": "code",
      "source": [
        "df_validation_clean.columns"
      ],
      "metadata": {
        "id": "MJVeLN95jSYZ"
      },
      "execution_count": null,
      "outputs": []
    },
    {
      "cell_type": "markdown",
      "source": [
        "# **Processing the validation Dataset**"
      ],
      "metadata": {
        "id": "znjkXO93jbuu"
      }
    },
    {
      "cell_type": "code",
      "source": [
        "# Extract text from validation DataFrame\n",
        "validation_data = df_validation_clean.select(\"Text\").toPandas()\n",
        "\n",
        "# Convert validation text to sequences using the same tokenizer\n",
        "validation_sequences = tokenizer.texts_to_sequences(validation_data['Text'])\n",
        "\n",
        "# Pad the sequences\n",
        "padded_validation_sequences = pad_sequences(validation_sequences, maxlen=max_len, padding='post')"
      ],
      "metadata": {
        "id": "Vl0F_BNejW2N"
      },
      "execution_count": null,
      "outputs": []
    },
    {
      "cell_type": "code",
      "source": [
        "# Predict sentiment on the validation data\n",
        "predictions = model.predict(padded_validation_sequences)"
      ],
      "metadata": {
        "id": "JkJK-z4Mj2C_"
      },
      "execution_count": null,
      "outputs": []
    },
    {
      "cell_type": "code",
      "source": [
        "# Convert predictions from one-hot encoded vectors to class labels\n",
        "predicted_labels = np.argmax(predictions, axis=1)"
      ],
      "metadata": {
        "id": "MNY0P1BUkCEp"
      },
      "execution_count": null,
      "outputs": []
    },
    {
      "cell_type": "markdown",
      "source": [
        "Computing evaluation metrics such as accuracy, confusion matrix, and classification report for the validation dataset."
      ],
      "metadata": {
        "id": "YPnhi69DkRO9"
      }
    },
    {
      "cell_type": "code",
      "source": [
        "# Get true labels\n",
        "true_labels = df_validation_clean.select(\"Sentiment\").toPandas()\n",
        "true_labels = true_labels['Sentiment'].map(sentiment_mapping).values\n",
        "\n",
        "# Evaluate the model\n",
        "conf_matrix = confusion_matrix(true_labels, predicted_labels)\n",
        "class_report = classification_report(true_labels, predicted_labels)\n",
        "\n",
        "print(\"Confusion Matrix:\\n\", conf_matrix)\n",
        "print(\"\\nClassification Report:\\n\", class_report)"
      ],
      "metadata": {
        "id": "0ONgeALTkMza"
      },
      "execution_count": null,
      "outputs": []
    },
    {
      "cell_type": "markdown",
      "source": [
        "The model demonstrates strong performance on the validation dataset, achieving an overall accuracy of 92%. The confusion matrix reveals that the model accurately classifies sentiments with minimal misclassifications, showing particularly high precision and recall for each sentiment category. Specifically, precision and recall values for `Neutral`, `Positive`, and `Negative` sentiments are consistently above 90%, with F1-scores also reflecting robust performance. These results indicate that the model effectively generalizes to new data, correctly identifying sentiments with high reliability and balance across the different categories."
      ],
      "metadata": {
        "id": "3Nvllfw5lZVQ"
      }
    },
    {
      "cell_type": "markdown",
      "source": [
        "**Comparison Between Training and Validation Results**\n",
        "\n",
        "The model exhibits a notable improvement in performance on the validation dataset compared to the training data. On the training set, the accuracy achieved was approximately 86%, with a confusion matrix reflecting some challenges in distinguishing between sentiment classes, particularly with lower precision and recall in certain categories. In contrast, the validation results show a substantial accuracy of 92%, with higher precision, recall, and F1-scores across all sentiment classes. This indicates that the model generalizes well to unseen data, achieving a more balanced and effective classification. The substantial enhancement in validation performance suggests that the model is robust and has learned to handle variations in data beyond the training set, avoiding overfitting and demonstrating strong predictive capabilities."
      ],
      "metadata": {
        "id": "yhlvmIlNmmxy"
      }
    },
    {
      "cell_type": "markdown",
      "source": [
        "# **Conclusion**"
      ],
      "metadata": {
        "id": "Bk3QZQBfm11w"
      }
    },
    {
      "cell_type": "markdown",
      "source": [
        "The analysis and model development for the sentiment classification of tweets have demonstrated successful results, highlighting the effectiveness of a Long Short-Term Memory (LSTM) network in handling text data. After preprocessing the dataset, including tokenization and padding, the LSTM model was trained and validated with a focus on accuracy and generalization. The model achieved a commendable performance on the training set, with an accuracy of 88%, indicating that it effectively learned the patterns in the training data. The confusion matrix and classification report revealed that the model initially struggled with distinguishing certain sentiment classes, leading to suboptimal precision and recall for some categories.\n",
        "\n",
        "However, the model's performance significantly improved on the validation set, where it reached an accuracy of 92%. The validation results showed enhanced precision, recall, and F1-scores across all sentiment classes, demonstrating the model's robust ability to generalize to new, unseen data. This indicates that the model is well-calibrated and not overfitted, making it reliable for practical applications. Overall, the successful application of LSTM in this sentiment analysis task underscores its capability to effectively capture and interpret complex text data, providing valuable insights into sentiment classification for real-world use."
      ],
      "metadata": {
        "id": "dMwIF345nW1X"
      }
    },
    {
      "cell_type": "markdown",
      "source": [
        "# **Reference List**"
      ],
      "metadata": {
        "id": "Hu_mc4EhJOKK"
      }
    },
    {
      "cell_type": "markdown",
      "source": [
        "1. Research Gate.(2024) *An Introduction to Recurrent Neural Networks(RNNs)*. Available at:https://medium.com/@researchgraph/an-introduction-to-recurrent-neural-networks-rnns-802fcfee3098. (Accessed 01 September 2024).\n",
        "\n",
        "2.\n",
        "Jayawardhana,S.(2020) *Sequence Models & Recurrent Neural Networks (RNNs)*. Available at:https://towardsdatascience.com/sequence-models-and-recurrent-neural-networks-rnns-62cadeb4f1e1 (Accessed 01 September 2024).\n",
        "\n",
        "3. Donges,N. (2024) *What are Recurrent Nueral Networks (RNNs)*. Available at:https://builtin.com/data-science/recurrent-neural-networks-and-lstm. (Accessed September 02 2024)."
      ],
      "metadata": {
        "id": "u1eC-wJyJToT"
      }
    },
    {
      "cell_type": "markdown",
      "source": [
        "# **Instructions To Run Code**"
      ],
      "metadata": {
        "id": "medLQFWxocHS"
      }
    },
    {
      "cell_type": "markdown",
      "source": [
        "1. Install required libraries. Can be installed using pip.\n",
        "2. Check tensorflow installation. Use code import tensorflow as tf\n",
        "print(tf.__version__)\n",
        "3. Data Preparation\n",
        "4. Handling error - when encountering errors, check the data shapes and types. Ensure that labels are in the correct format."
      ],
      "metadata": {
        "id": "Lv7QvJ1Aoi2X"
      }
    },
    {
      "cell_type": "markdown",
      "source": [
        "# **Save the Model**"
      ],
      "metadata": {
        "id": "4ead-VJipknW"
      }
    },
    {
      "cell_type": "code",
      "source": [
        "model.save('lstm_sentiment_model.h5')"
      ],
      "metadata": {
        "id": "iaBZUMcNJSb5"
      },
      "execution_count": null,
      "outputs": []
    }
  ]
}